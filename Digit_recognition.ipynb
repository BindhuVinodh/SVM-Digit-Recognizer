{
 "cells": [
  {
   "cell_type": "code",
   "execution_count": 2,
   "metadata": {},
   "outputs": [],
   "source": [
    "# Import the libraries\n",
    "import pandas as pd\n",
    "import numpy as np\n",
    "from sklearn.svm import SVC\n",
    "from sklearn.model_selection import train_test_split\n",
    "from sklearn import metrics\n",
    "from sklearn.metrics import confusion_matrix\n",
    "from sklearn.model_selection import KFold\n",
    "from sklearn.model_selection import cross_val_score\n",
    "from sklearn.model_selection import GridSearchCV\n",
    "import matplotlib.pyplot as plt\n",
    "import seaborn as sns\n",
    "from sklearn.preprocessing import scale\n"
   ]
  },
  {
   "cell_type": "code",
   "execution_count": 3,
   "metadata": {},
   "outputs": [],
   "source": [
    "#Read 10% the original file which contains 42000 rows\n",
    "\n",
    "import pandas as pd\n",
    "df = pd.read_csv('train.csv',nrows=4200)\n"
   ]
  },
  {
   "cell_type": "code",
   "execution_count": 4,
   "metadata": {},
   "outputs": [
    {
     "data": {
      "text/plain": [
       "(4200, 785)"
      ]
     },
     "execution_count": 4,
     "metadata": {},
     "output_type": "execute_result"
    }
   ],
   "source": [
    "df.shape"
   ]
  },
  {
   "cell_type": "code",
   "execution_count": 6,
   "metadata": {},
   "outputs": [
    {
     "data": {
      "text/plain": [
       "label       0.0\n",
       "pixel0      0.0\n",
       "pixel1      0.0\n",
       "pixel2      0.0\n",
       "pixel3      0.0\n",
       "pixel4      0.0\n",
       "pixel5      0.0\n",
       "pixel6      0.0\n",
       "pixel7      0.0\n",
       "pixel8      0.0\n",
       "pixel9      0.0\n",
       "pixel10     0.0\n",
       "pixel11     0.0\n",
       "pixel12     0.0\n",
       "pixel13     0.0\n",
       "pixel14     0.0\n",
       "pixel15     0.0\n",
       "pixel16     0.0\n",
       "pixel17     0.0\n",
       "pixel18     0.0\n",
       "pixel19     0.0\n",
       "pixel20     0.0\n",
       "pixel21     0.0\n",
       "pixel22     0.0\n",
       "pixel23     0.0\n",
       "pixel24     0.0\n",
       "pixel25     0.0\n",
       "pixel26     0.0\n",
       "pixel27     0.0\n",
       "pixel28     0.0\n",
       "           ... \n",
       "pixel754    0.0\n",
       "pixel755    0.0\n",
       "pixel756    0.0\n",
       "pixel757    0.0\n",
       "pixel758    0.0\n",
       "pixel759    0.0\n",
       "pixel760    0.0\n",
       "pixel761    0.0\n",
       "pixel762    0.0\n",
       "pixel763    0.0\n",
       "pixel764    0.0\n",
       "pixel765    0.0\n",
       "pixel766    0.0\n",
       "pixel767    0.0\n",
       "pixel768    0.0\n",
       "pixel769    0.0\n",
       "pixel770    0.0\n",
       "pixel771    0.0\n",
       "pixel772    0.0\n",
       "pixel773    0.0\n",
       "pixel774    0.0\n",
       "pixel775    0.0\n",
       "pixel776    0.0\n",
       "pixel777    0.0\n",
       "pixel778    0.0\n",
       "pixel779    0.0\n",
       "pixel780    0.0\n",
       "pixel781    0.0\n",
       "pixel782    0.0\n",
       "pixel783    0.0\n",
       "Length: 785, dtype: float64"
      ]
     },
     "execution_count": 6,
     "metadata": {},
     "output_type": "execute_result"
    }
   ],
   "source": [
    "# Checking the percentage of missing values\n",
    "round(100*(df.isnull().sum()/len(df.index)), 2) \n",
    "\n",
    "#No Missing Values"
   ]
  },
  {
   "cell_type": "code",
   "execution_count": 9,
   "metadata": {},
   "outputs": [
    {
     "name": "stdout",
     "output_type": "stream",
     "text": [
      "[0, 1, 2, 3, 4, 5, 6, 7, 8, 9]\n"
     ]
    }
   ],
   "source": [
    "order = list(np.sort(df['label'].unique()))\n",
    "print(order)\n"
   ]
  },
  {
   "cell_type": "code",
   "execution_count": 27,
   "metadata": {},
   "outputs": [
    {
     "data": {
      "image/png": "[encoded data removed]",
      "text/plain": [
       "<Figure size 432x288 with 1 Axes>"
      ]
     },
     "metadata": {
      "needs_background": "light"
     },
     "output_type": "display_data"
    }
   ],
   "source": [
    "#Check if the data is biased towards one digit\n",
    "\n",
    "sns.countplot(df['label'])\n",
    "plt.show()\n",
    "# looks kinda okay\n"
   ]
  },
  {
   "cell_type": "code",
   "execution_count": 11,
   "metadata": {},
   "outputs": [],
   "source": [
    "#Separate Label and Pixel columns. Label is the first column\n",
    "X_tr = df.iloc[:,1:] # iloc ensures X_tr will be a dataframe\n",
    "y_tr = df.iloc[:, 0]\n"
   ]
  },
  {
   "cell_type": "code",
   "execution_count": 12,
   "metadata": {},
   "outputs": [],
   "source": [
    "#Divide the data into training and test data.stratify=y to preserve distribution of labels\n",
    "\n",
    "X_train, X_test, y_train, y_test = train_test_split(X_tr,y_tr,test_size=0.2, random_state=30, stratify=y_tr)\n"
   ]
  },
  {
   "cell_type": "code",
   "execution_count": null,
   "metadata": {},
   "outputs": [],
   "source": [
    "## Model Building\n",
    "\n",
    "Let's fist build two basic models - linear and non-linear with default hyperparameters, and compare the accuracies."
   ]
  },
  {
   "cell_type": "code",
   "execution_count": 13,
   "metadata": {},
   "outputs": [],
   "source": [
    "# linear model\n",
    "\n",
    "model_linear = SVC(kernel='linear')\n",
    "model_linear.fit(X_train, y_train)\n",
    "\n",
    "# predict\n",
    "y_pred = model_linear.predict(X_test)\n"
   ]
  },
  {
   "cell_type": "code",
   "execution_count": 14,
   "metadata": {},
   "outputs": [
    {
     "name": "stdout",
     "output_type": "stream",
     "text": [
      "accuracy: 0.9142857142857143 \n",
      "\n",
      "[[83  0  0  0  0  1  0  1  0  0]\n",
      " [ 0 90  0  0  0  1  0  0  1  0]\n",
      " [ 1  0 87  0  0  0  2  0  1  0]\n",
      " [ 1  2  4 66  0  3  0  1  0  0]\n",
      " [ 1  0  1  0 75  0  0  0  0  5]\n",
      " [ 0  1  4  2  1 70  2  0  0  0]\n",
      " [ 0  0  0  0  1  1 85  0  0  0]\n",
      " [ 0  1  3  0  0  0  0 81  0  0]\n",
      " [ 1  2  3  4  0  4  0  1 63  3]\n",
      " [ 3  0  0  1  2  2  0  4  0 68]]\n"
     ]
    }
   ],
   "source": [
    "# confusion matrix and accuracy\n",
    "\n",
    "# accuracy\n",
    "print(\"accuracy:\", metrics.accuracy_score(y_true=y_test, y_pred=y_pred), \"\\n\")\n",
    "\n",
    "# cm\n",
    "print(metrics.confusion_matrix(y_true=y_test, y_pred=y_pred))"
   ]
  },
  {
   "cell_type": "code",
   "execution_count": null,
   "metadata": {},
   "outputs": [],
   "source": [
    "The linear model gives approx. 91% accuracy. Let's look at a sufficiently non-linear model with randomly chosen hyperparameters."
   ]
  },
  {
   "cell_type": "code",
   "execution_count": 15,
   "metadata": {},
   "outputs": [],
   "source": [
    "# non-linear model\n",
    "# using rbf kernel, C=1, default value of gamma\n",
    "\n",
    "# model\n",
    "non_linear_model = SVC(kernel='rbf')\n",
    "\n",
    "# fit\n",
    "non_linear_model.fit(X_train, y_train)\n",
    "\n",
    "# predict\n",
    "y_pred = non_linear_model.predict(X_test)"
   ]
  },
  {
   "cell_type": "code",
   "execution_count": 16,
   "metadata": {},
   "outputs": [
    {
     "name": "stdout",
     "output_type": "stream",
     "text": [
      "accuracy: 0.10952380952380952 \n",
      "\n",
      "[[ 0 85  0  0  0  0  0  0  0  0]\n",
      " [ 0 92  0  0  0  0  0  0  0  0]\n",
      " [ 0 91  0  0  0  0  0  0  0  0]\n",
      " [ 0 77  0  0  0  0  0  0  0  0]\n",
      " [ 0 82  0  0  0  0  0  0  0  0]\n",
      " [ 0 80  0  0  0  0  0  0  0  0]\n",
      " [ 0 87  0  0  0  0  0  0  0  0]\n",
      " [ 0 85  0  0  0  0  0  0  0  0]\n",
      " [ 0 81  0  0  0  0  0  0  0  0]\n",
      " [ 0 80  0  0  0  0  0  0  0  0]]\n"
     ]
    }
   ],
   "source": [
    "# confusion matrix and accuracy\n",
    "\n",
    "# accuracy\n",
    "print(\"accuracy:\", metrics.accuracy_score(y_true=y_test, y_pred=y_pred), \"\\n\")\n",
    "\n",
    "# cm\n",
    "print(metrics.confusion_matrix(y_true=y_test, y_pred=y_pred))"
   ]
  },
  {
   "cell_type": "code",
   "execution_count": 32,
   "metadata": {},
   "outputs": [],
   "source": [
    "#Use standardscaler to standardize features, using Polynomial Kernel.\n",
    "#set up the Pipeline object with StandardScaler and SVC as a transformer and estimator respectively\n",
    "\n",
    "from sklearn.preprocessing import StandardScaler\n",
    "from sklearn.pipeline import Pipeline\n",
    "steps = [('scaler', StandardScaler()), ('SVM', SVC(kernel='poly'))]\n",
    "pipeline = Pipeline(steps) # define Pipeline object\n"
   ]
  },
  {
   "cell_type": "code",
   "execution_count": 33,
   "metadata": {},
   "outputs": [],
   "source": [
    "#use the GridSearchCV method with 5 folds cross-validation\n",
    "\n",
    "parameters = {'SVM__C':[0.001, 0.1, 100, 10e5], 'SVM__gamma':[10,1,0.1,0.01]}\n",
    "grid = GridSearchCV(pipeline, param_grid=parameters, cv=5)\n"
   ]
  },
  {
   "cell_type": "code",
   "execution_count": 39,
   "metadata": {},
   "outputs": [
    {
     "name": "stdout",
     "output_type": "stream",
     "text": [
      "0.9321428571428572\n",
      "best parameters from train data:  {'SVM__C': 0.001, 'SVM__gamma': 10}\n"
     ]
    }
   ],
   "source": [
    "#test the model and find the best-fit parameters\n",
    "\n",
    "grid.fit(X_train, y_train)\n",
    "score = grid.score(X_test, y_test)\n",
    "print(score)\n",
    "print(\"best parameters from train data: \", grid.best_params_)\n",
    " \n"
   ]
  },
  {
   "cell_type": "code",
   "execution_count": 41,
   "metadata": {},
   "outputs": [],
   "source": [
    "#best parameters from train data:  {'SVM__C': 0.001, 'SVM__gamma': 10}\n",
    "\n",
    "y_pred = grid.predict(X_test)\n"
   ]
  },
  {
   "cell_type": "code",
   "execution_count": 43,
   "metadata": {},
   "outputs": [
    {
     "name": "stdout",
     "output_type": "stream",
     "text": [
      "[8 1 0 8 2]\n",
      "2580    8\n",
      "1475    1\n",
      "4002    0\n",
      "2328    2\n",
      "2226    2\n",
      "Name: label, dtype: int64\n"
     ]
    }
   ],
   "source": [
    "#We can check some of the predictions\n",
    "\n",
    "print(y_pred[100:105])\n",
    "print(y_test[100:105])\n",
    "\n",
    "#except for one - others are predicted correctly"
   ]
  },
  {
   "cell_type": "code",
   "execution_count": 44,
   "metadata": {},
   "outputs": [
    {
     "data": {
      "image/png": "[encoded data removed]",
      "text/plain": [
       "<Figure size 432x288 with 1 Axes>"
      ]
     },
     "metadata": {
      "needs_background": "light"
     },
     "output_type": "display_data"
    },
    {
     "data": {
      "image/png": "[encoded data removed]",
      "text/plain": [
       "<Figure size 432x288 with 1 Axes>"
      ]
     },
     "metadata": {
      "needs_background": "light"
     },
     "output_type": "display_data"
    },
    {
     "data": {
      "image/png": "[encoded data removed]",
      "text/plain": [
       "<Figure size 432x288 with 1 Axes>"
      ]
     },
     "metadata": {
      "needs_background": "light"
     },
     "output_type": "display_data"
    },
    {
     "data": {
      "image/png": "[encoded data removed]",
      "text/plain": [
       "<Figure size 432x288 with 1 Axes>"
      ]
     },
     "metadata": {
      "needs_background": "light"
     },
     "output_type": "display_data"
    },
    {
     "data": {
      "image/png": "[encoded data removed]",
      "text/plain": [
       "<Figure size 432x288 with 1 Axes>"
      ]
     },
     "metadata": {
      "needs_background": "light"
     },
     "output_type": "display_data"
    },
    {
     "data": {
      "image/png": "[encoded data removed]",
      "text/plain": [
       "<Figure size 432x288 with 1 Axes>"
      ]
     },
     "metadata": {
      "needs_background": "light"
     },
     "output_type": "display_data"
    }
   ],
   "source": [
    "#Try plotting the numbers\n",
    "\n",
    "for i in (np.random.randint(0,270,6)):\n",
    " two_d = (np.reshape(X_test.values[i], (28, 28)) * 255).astype(np.uint8)\n",
    " plt.title('predicted label: {0}'. format(y_pred[i]))\n",
    " plt.imshow(two_d, interpolation='nearest', cmap='gray')\n",
    " plt.show()\n"
   ]
  },
  {
   "cell_type": "code",
   "execution_count": 56,
   "metadata": {},
   "outputs": [
    {
     "name": "stdout",
     "output_type": "stream",
     "text": [
      "confusion matrix: \n",
      "  [[84  0  0  0  0  0  0  0  0  1]\n",
      " [ 0 89  0  1  1  0  0  0  1  0]\n",
      " [ 0  0 85  1  0  0  0  0  5  0]\n",
      " [ 1  0  5 65  0  1  0  0  4  1]\n",
      " [ 0  0  1  0 79  0  0  0  0  2]\n",
      " [ 0  0  1  2  0 71  4  0  1  1]\n",
      " [ 0  0  1  0  1  0 84  0  1  0]\n",
      " [ 1  2  0  0  1  0  0 78  1  2]\n",
      " [ 0  0  0  3  0  3  0  0 73  2]\n",
      " [ 1  0  0  0  0  1  0  3  0 75]]\n"
     ]
    }
   ],
   "source": [
    "#Create Confusion matrix\n",
    "\n",
    "cm = confusion_matrix(y_test, y_pred)\n",
    "\n",
    "print(\"confusion matrix: \\n \", cm)\n"
   ]
  },
  {
   "cell_type": "code",
   "execution_count": 57,
   "metadata": {},
   "outputs": [],
   "source": [
    "def accuracy(confusion_matrix):\n",
    "    diagonal_sum = confusion_matrix.trace()\n",
    "    sum_of_all_elements = confusion_matrix.sum()\n",
    "    return diagonal_sum / sum_of_all_elements \n"
   ]
  },
  {
   "cell_type": "code",
   "execution_count": 58,
   "metadata": {},
   "outputs": [
    {
     "data": {
      "text/plain": [
       "0.9321428571428572"
      ]
     },
     "execution_count": 58,
     "metadata": {},
     "output_type": "execute_result"
    }
   ],
   "source": [
    "#Calculate Accuracy\n",
    "\n",
    "accuracy(cm)\n"
   ]
  },
  {
   "cell_type": "code",
   "execution_count": null,
   "metadata": {},
   "outputs": [],
   "source": [
    "there is 93.21% Accuracy with 10 % of Input Data. and I expect this score to increase a bit with the complete 42,000 samples"
   ]
  }
 ],
 "metadata": {
  "kernelspec": {
   "display_name": "Python 3",
   "language": "python",
   "name": "python3"
  },
  "language_info": {
   "codemirror_mode": {
    "name": "ipython",
    "version": 3
   },
   "file_extension": ".py",
   "mimetype": "text/x-python",
   "name": "python",
   "nbconvert_exporter": "python",
   "pygments_lexer": "ipython3",
   "version": "3.7.0"
  }
 },
 "nbformat": 4,
 "nbformat_minor": 2
}
